{
 "cells": [
  {
   "cell_type": "markdown",
   "metadata": {},
   "source": [
    "Q5) What will this `mystery` function return? Assume `rdd` is an a simple RDD of numeric values."
   ]
  },
  {
   "cell_type": "code",
   "execution_count": 1,
   "metadata": {},
   "outputs": [],
   "source": [
    "from pyspark import SparkContext\n",
    "\n",
    "sc = SparkContext()\n",
    "\n",
    "def mystery(rdd):\n",
    "    a = rdd.count()\n",
    "    \n",
    "    b = rdd.sortBy(lambda x: x) \\\n",
    "        .zipWithIndex() \\\n",
    "        .map(lambda x: (x[1], x[0]))\n",
    "    \n",
    "    c = a//2\n",
    "    \n",
    "    d = b.filter(lambda x: x[0] == c).collect()[0][1]\n",
    "    \n",
    "    if a % 2 == 1:\n",
    "        return d\n",
    "    else:\n",
    "        e = b.filter(lambda x: x[0] == c - 1).collect()[0][1]\n",
    "        return (d + e)/2"
   ]
  },
  {
   "cell_type": "markdown",
   "metadata": {},
   "source": [
    "1. If the RDD is odd, its first value. If it is even, the average of its first and last values\n",
    "2. If the RDD is odd, its smallest value. If it is even, the average of its smallest and largest values\n",
    "3. If the RDD is odd, its largest value. If it is even, the average of its largest value and the next largest value\n",
    "4. The RDD median"
   ]
  },
  {
   "cell_type": "markdown",
   "metadata": {},
   "source": [
    "Q6) A function receives a RDD of 2-tuples, e.g. `sc.parallelize([(1, 3),(2, 1),(3, 1)])`.\n",
    "\n",
    "The first element in the tuple is the value, and the second is its frequency, e.g. \"1 appears 3 times, 2 appears 1 time, etc.\"\n",
    "\n",
    "Which of the following will compute the harmonic mean of the ungrouped values?\n",
    "\n",
    "For example, the harmonic mean of the above RDD is: $5/(1/1 + 1/1 + 1/1 + 1/2 + 1/3) = 1.304$"
   ]
  },
  {
   "cell_type": "code",
   "execution_count": 2,
   "metadata": {},
   "outputs": [],
   "source": [
    "def a(rdd):\n",
    "    return rdd.count()/rdd.map(lambda x: 1/x).reduce(lambda a, b: a + b)"
   ]
  },
  {
   "cell_type": "code",
   "execution_count": 3,
   "metadata": {},
   "outputs": [],
   "source": [
    "def b(rdd):\n",
    "    return rdd.map(lambda x: x[1]).sum()/rdd.map(lambda x: (1/x[0], x[1])).map(lambda x: x[0]*x[1]).sum()"
   ]
  },
  {
   "cell_type": "code",
   "execution_count": 4,
   "metadata": {},
   "outputs": [],
   "source": [
    "def c(rdd):\n",
    "    return rdd.map(lambda x: x[1]).count() / rdd.map(lambda x: x[1]/x[0]).sum()"
   ]
  },
  {
   "cell_type": "code",
   "execution_count": 5,
   "metadata": {},
   "outputs": [],
   "source": [
    "def d(rdd):\n",
    "    return rdd.count()/rdd.mapValues(lambda v: 1/v).map(lambda x: x[1]).sum()"
   ]
  }
 ],
 "metadata": {
  "kernelspec": {
   "display_name": "Python 3",
   "language": "python",
   "name": "python3"
  },
  "language_info": {
   "codemirror_mode": {
    "name": "ipython",
    "version": 3
   },
   "file_extension": ".py",
   "mimetype": "text/x-python",
   "name": "python",
   "nbconvert_exporter": "python",
   "pygments_lexer": "ipython3",
   "version": "3.7.3"
  }
 },
 "nbformat": 4,
 "nbformat_minor": 2
}
